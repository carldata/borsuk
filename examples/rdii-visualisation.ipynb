{
 "cells": [
  {
   "cell_type": "markdown",
   "metadata": {},
   "source": [
    "# Visualisation of the rdii in borsuk"
   ]
  },
  {
   "cell_type": "markdown",
   "metadata": {},
   "source": [
    "### Importing necessary libraries"
   ]
  },
  {
   "cell_type": "code",
   "execution_count": 1,
   "metadata": {},
   "outputs": [],
   "source": [
    "import numpy as np\n",
    "import pandas as pd\n",
    "import matplotlib.pyplot as plt\n",
    "from matplotlib import rcParams\n",
    "import os.path\n",
    "import statsmodels.api as sm\n",
    "import statistics\n",
    "import http.client\n",
    "import json\n",
    "import urllib.request\n",
    "import requests\n",
    "import random\n",
    "from urllib import error\n",
    "import configparser \n",
    "import datetime\n",
    "import re\n",
    "import time"
   ]
  },
  {
   "cell_type": "markdown",
   "metadata": {},
   "source": [
    "### Accessing the token\n",
    "Pobranie danych dla kanału "
   ]
  },
  {
   "cell_type": "code",
   "execution_count": 2,
   "metadata": {},
   "outputs": [
    {
     "data": {
      "text/plain": [
       "['config.txt']"
      ]
     },
     "execution_count": 2,
     "metadata": {},
     "output_type": "execute_result"
    }
   ],
   "source": [
    "config = configparser.ConfigParser()\n",
    "config.read(\"config.txt\")"
   ]
  },
  {
   "cell_type": "code",
   "execution_count": 3,
   "metadata": {},
   "outputs": [],
   "source": [
    "http_client = config.get(\"configuration\",\"http_client\")\n",
    "conn = http.client.HTTPConnection(http_client)\n",
    "headers = {'Content-type': 'application/json'}"
   ]
  },
  {
   "cell_type": "code",
   "execution_count": 4,
   "metadata": {},
   "outputs": [],
   "source": [
    "Username = config.get(\"configuration\",\"user\")\n",
    "Password = config.get(\"configuration\",\"password\")"
   ]
  },
  {
   "cell_type": "code",
   "execution_count": 5,
   "metadata": {},
   "outputs": [],
   "source": [
    "body = { 'Username': Username, 'Password': Password}\n",
    "conn.request(\"POST\",\"/auth/authenticate\", json.dumps(body),headers)\n",
    "response = conn.getresponse()\n",
    "x = response.read().decode()\n",
    "token = json.loads(x)['token']"
   ]
  },
  {
   "cell_type": "markdown",
   "metadata": {},
   "source": [
    "### Loading the data set"
   ]
  },
  {
   "cell_type": "code",
   "execution_count": 6,
   "metadata": {},
   "outputs": [],
   "source": [
    "url_rain = config.get(\"configuration\", \"url_rain\") + token\n",
    "url_flow = config.get(\"configuration\", \"url_flow\") + token"
   ]
  },
  {
   "cell_type": "code",
   "execution_count": 7,
   "metadata": {},
   "outputs": [],
   "source": [
    "df_rain = pd.read_csv(url_rain, parse_dates=['time'])\n",
    "df_flow = pd.read_csv(url_flow, parse_dates=['time'])"
   ]
  },
  {
   "cell_type": "code",
   "execution_count": 8,
   "metadata": {},
   "outputs": [
    {
     "data": {
      "text/html": [
       "<div>\n",
       "<style scoped>\n",
       "    .dataframe tbody tr th:only-of-type {\n",
       "        vertical-align: middle;\n",
       "    }\n",
       "\n",
       "    .dataframe tbody tr th {\n",
       "        vertical-align: top;\n",
       "    }\n",
       "\n",
       "    .dataframe thead th {\n",
       "        text-align: right;\n",
       "    }\n",
       "</style>\n",
       "<table border=\"1\" class=\"dataframe\">\n",
       "  <thead>\n",
       "    <tr style=\"text-align: right;\">\n",
       "      <th></th>\n",
       "      <th>time</th>\n",
       "      <th>value</th>\n",
       "    </tr>\n",
       "  </thead>\n",
       "  <tbody>\n",
       "    <tr>\n",
       "      <th>0</th>\n",
       "      <td>2011-07-12 12:15:00</td>\n",
       "      <td>2.267409</td>\n",
       "    </tr>\n",
       "    <tr>\n",
       "      <th>1</th>\n",
       "      <td>2011-07-12 12:30:00</td>\n",
       "      <td>2.314310</td>\n",
       "    </tr>\n",
       "    <tr>\n",
       "      <th>2</th>\n",
       "      <td>2011-07-12 12:45:00</td>\n",
       "      <td>2.259863</td>\n",
       "    </tr>\n",
       "    <tr>\n",
       "      <th>3</th>\n",
       "      <td>2011-07-12 13:00:00</td>\n",
       "      <td>2.153435</td>\n",
       "    </tr>\n",
       "    <tr>\n",
       "      <th>4</th>\n",
       "      <td>2011-07-12 13:15:00</td>\n",
       "      <td>2.085203</td>\n",
       "    </tr>\n",
       "  </tbody>\n",
       "</table>\n",
       "</div>"
      ],
      "text/plain": [
       "                 time     value\n",
       "0 2011-07-12 12:15:00  2.267409\n",
       "1 2011-07-12 12:30:00  2.314310\n",
       "2 2011-07-12 12:45:00  2.259863\n",
       "3 2011-07-12 13:00:00  2.153435\n",
       "4 2011-07-12 13:15:00  2.085203"
      ]
     },
     "execution_count": 8,
     "metadata": {},
     "output_type": "execute_result"
    }
   ],
   "source": [
    "df_flow.head()"
   ]
  },
  {
   "cell_type": "markdown",
   "metadata": {},
   "source": [
    "### Creating dataset where missing rows are given -1"
   ]
  },
  {
   "cell_type": "code",
   "execution_count": 9,
   "metadata": {},
   "outputs": [],
   "source": [
    "df_rain = df_rain.set_index('time')\n",
    "df_rain = df_rain.resample('300S').asfreq()"
   ]
  },
  {
   "cell_type": "code",
   "execution_count": 10,
   "metadata": {},
   "outputs": [],
   "source": [
    "df_rain = df_rain.reset_index()"
   ]
  },
  {
   "cell_type": "code",
   "execution_count": 11,
   "metadata": {},
   "outputs": [],
   "source": [
    "df_flow = df_flow.set_index('time')\n",
    "df_flow = df_flow.resample('900S').asfreq()"
   ]
  },
  {
   "cell_type": "code",
   "execution_count": 12,
   "metadata": {},
   "outputs": [],
   "source": [
    "df_flow = df_flow.reset_index()"
   ]
  },
  {
   "cell_type": "code",
   "execution_count": 13,
   "metadata": {},
   "outputs": [],
   "source": [
    "df_rain = df_rain.fillna(-1)\n",
    "df_flow = df_flow.fillna(-1)"
   ]
  },
  {
   "cell_type": "markdown",
   "metadata": {},
   "source": [
    "### Taking the fragment of the data to the model"
   ]
  },
  {
   "cell_type": "code",
   "execution_count": 14,
   "metadata": {},
   "outputs": [],
   "source": [
    "split_rain = df_rain[(df_rain['time'] > '2012-09-16 00:00:00')]\n",
    "split_rain = split_rain[(split_rain['time'] < '2016-4-9 00:00:00')]\n",
    "split_flow = df_flow[(df_flow['time'] > '2012-09-16 00:00:00')]\n",
    "split_flow = split_flow[(split_flow['time'] < '2016-4-9 00:00:00')]"
   ]
  },
  {
   "cell_type": "code",
   "execution_count": 15,
   "metadata": {},
   "outputs": [
    {
     "data": {
      "text/html": [
       "<div>\n",
       "<style scoped>\n",
       "    .dataframe tbody tr th:only-of-type {\n",
       "        vertical-align: middle;\n",
       "    }\n",
       "\n",
       "    .dataframe tbody tr th {\n",
       "        vertical-align: top;\n",
       "    }\n",
       "\n",
       "    .dataframe thead th {\n",
       "        text-align: right;\n",
       "    }\n",
       "</style>\n",
       "<table border=\"1\" class=\"dataframe\">\n",
       "  <thead>\n",
       "    <tr style=\"text-align: right;\">\n",
       "      <th></th>\n",
       "      <th>time</th>\n",
       "      <th>value</th>\n",
       "    </tr>\n",
       "  </thead>\n",
       "  <tbody>\n",
       "    <tr>\n",
       "      <th>41424</th>\n",
       "      <td>2012-09-16 00:15:00</td>\n",
       "      <td>1.018260</td>\n",
       "    </tr>\n",
       "    <tr>\n",
       "      <th>41425</th>\n",
       "      <td>2012-09-16 00:30:00</td>\n",
       "      <td>0.969223</td>\n",
       "    </tr>\n",
       "    <tr>\n",
       "      <th>41426</th>\n",
       "      <td>2012-09-16 00:45:00</td>\n",
       "      <td>0.983287</td>\n",
       "    </tr>\n",
       "    <tr>\n",
       "      <th>41427</th>\n",
       "      <td>2012-09-16 01:00:00</td>\n",
       "      <td>0.912357</td>\n",
       "    </tr>\n",
       "    <tr>\n",
       "      <th>41428</th>\n",
       "      <td>2012-09-16 01:15:00</td>\n",
       "      <td>0.867315</td>\n",
       "    </tr>\n",
       "  </tbody>\n",
       "</table>\n",
       "</div>"
      ],
      "text/plain": [
       "                     time     value\n",
       "41424 2012-09-16 00:15:00  1.018260\n",
       "41425 2012-09-16 00:30:00  0.969223\n",
       "41426 2012-09-16 00:45:00  0.983287\n",
       "41427 2012-09-16 01:00:00  0.912357\n",
       "41428 2012-09-16 01:15:00  0.867315"
      ]
     },
     "execution_count": 15,
     "metadata": {},
     "output_type": "execute_result"
    }
   ],
   "source": [
    "split_flow.head()"
   ]
  },
  {
   "cell_type": "markdown",
   "metadata": {},
   "source": [
    "### Creating the json variable"
   ]
  },
  {
   "cell_type": "code",
   "execution_count": 16,
   "metadata": {},
   "outputs": [],
   "source": [
    "rdii = {\n",
    "  \"flow\": {\n",
    "    \"start-date\": \"2012-09-16\",\n",
    "    \"resolution\": \"PT15M\",\n",
    "    \"values\":  list(split_flow['value'])\n",
    "  },\n",
    "  \"rainfall\": {\n",
    "    \"start-date\": \"2012-09-16\",\n",
    "    \"resolution\": \"PT5M\",\n",
    "    \"values\":  list(split_rain['value'])\n",
    "  },\n",
    "    \"dryDayWindow\": \"P2D\",\n",
    "    \"minSessionWindow\": \"PT12H\",\n",
    "    \"maxSessionWindow\": \"PT12H\"\n",
    "}"
   ]
  },
  {
   "cell_type": "markdown",
   "metadata": {},
   "source": [
    "### POST to borsuk-rdii alicja-test-model"
   ]
  },
  {
   "cell_type": "code",
   "execution_count": 17,
   "metadata": {},
   "outputs": [],
   "source": [
    "#{\"type\":\"rdiis-v0\", \"id\": \"model-id\"}"
   ]
  },
  {
   "cell_type": "code",
   "execution_count": 18,
   "metadata": {},
   "outputs": [
    {
     "name": "stdout",
     "output_type": "stream",
     "text": [
      "409\n",
      "b'Error: Model with this id already exist.'\n"
     ]
    }
   ],
   "source": [
    "rdii_url = config.get(\"configuration\", \"rdii_url\")\n",
    "body={\"type\":\"rdiis-v0\",\"id\": \"rdii_test\"}\n",
    "response = requests.post(rdii_url, json=body)\n",
    "print(response.status_code)\n",
    "print(response.content)"
   ]
  },
  {
   "cell_type": "markdown",
   "metadata": {},
   "source": [
    "### GET to borsuk-rdii alicja-test-model"
   ]
  },
  {
   "cell_type": "code",
   "execution_count": 19,
   "metadata": {},
   "outputs": [
    {
     "name": "stdout",
     "output_type": "stream",
     "text": [
      "3\n"
     ]
    }
   ],
   "source": [
    "rdii_model = config.get(\"configuration\", \"rdii_model\")\n",
    "r = requests.get(rdii_model)\n",
    "last_build = json.loads(r.content)['build']\n",
    "print(last_build)"
   ]
  },
  {
   "cell_type": "markdown",
   "metadata": {},
   "source": [
    "### POST to borsuk json data fragment"
   ]
  },
  {
   "cell_type": "code",
   "execution_count": 20,
   "metadata": {},
   "outputs": [
    {
     "name": "stdout",
     "output_type": "stream",
     "text": [
      "200\n",
      "b'OK'\n"
     ]
    }
   ],
   "source": [
    "body=rdii\n",
    "url_fit = config.get(\"configuration\", \"rdii_fit\")\n",
    "response = requests.post(url_fit, json=body)\n",
    "print(response.status_code)\n",
    "print(response.content)"
   ]
  },
  {
   "cell_type": "markdown",
   "metadata": {},
   "source": [
    "### GET rdii\n",
    "The change of status informs that the post is finished"
   ]
  },
  {
   "cell_type": "code",
   "execution_count": 21,
   "metadata": {},
   "outputs": [
    {
     "name": "stdout",
     "output_type": "stream",
     "text": [
      "Primary status:  3\n",
      "Status after post:  4\n",
      "--- 37.842416524887085 seconds ---\n"
     ]
    }
   ],
   "source": [
    "print(\"Primary status: \",last_build)\n",
    "start_time = time.time()\n",
    "\n",
    "while True:\n",
    "    r = requests.get(rdii_model)\n",
    "    new_build = json.loads(r.content)['build']\n",
    "    if new_build > last_build:\n",
    "        print(\"Status after post: \",new_build)\n",
    "        break\n",
    "\n",
    "print(\"--- %s seconds ---\" % (time.time() - start_time))"
   ]
  },
  {
   "cell_type": "markdown",
   "metadata": {},
   "source": [
    "### Get rdii with dryDayWindow: P2D"
   ]
  },
  {
   "cell_type": "code",
   "execution_count": 22,
   "metadata": {},
   "outputs": [],
   "source": [
    "rdii_session = config.get(\"configuration\", \"rdii_session\")\n",
    "r = requests.get(rdii_session)\n",
    "session = json.loads(r.content)"
   ]
  },
  {
   "cell_type": "markdown",
   "metadata": {},
   "source": [
    "### Get rdii with exemplary id"
   ]
  },
  {
   "cell_type": "code",
   "execution_count": 23,
   "metadata": {},
   "outputs": [],
   "source": [
    "rdii_id = config.get(\"configuration\", \"rdii_id\")\n",
    "rdii_id = rdii_id + '/2'\n",
    "r = requests.get(rdii_id)\n",
    "b = json.loads(r.content)"
   ]
  },
  {
   "cell_type": "markdown",
   "metadata": {},
   "source": [
    "### Create variables from json"
   ]
  },
  {
   "cell_type": "code",
   "execution_count": 24,
   "metadata": {},
   "outputs": [
    {
     "name": "stdout",
     "output_type": "stream",
     "text": [
      "2012-10-15T04:15 2012-10-16T06:00\n"
     ]
    }
   ],
   "source": [
    "st_date = b['start-date']\n",
    "en_date = b['end-date']\n",
    "dwp = b['dwp']\n",
    "flow = b['flow']\n",
    "rain = b['rainfall']\n",
    "rdii_v = b['rdii']\n",
    "print(st_date, en_date)"
   ]
  },
  {
   "cell_type": "code",
   "execution_count": 25,
   "metadata": {},
   "outputs": [],
   "source": [
    "dt = datetime.datetime(2012, 10, 15,4,15)\n",
    "end = datetime.datetime(2012, 10, 16, 6,15)\n",
    "step = datetime.timedelta(seconds=900)\n",
    "\n",
    "result = []\n",
    "\n",
    "while dt < end:\n",
    "    result.append(dt.strftime('%Y-%m-%d %H:%M:%S'))\n",
    "    dt += step"
   ]
  },
  {
   "cell_type": "code",
   "execution_count": 26,
   "metadata": {},
   "outputs": [],
   "source": [
    "b_time = pd.DataFrame(result)\n",
    "b_dwp = pd.DataFrame(dwp)\n",
    "b_flow = pd.DataFrame(flow)\n",
    "b_rain = pd.DataFrame(rain)\n",
    "b_rdii = pd.DataFrame(rdii_v)"
   ]
  },
  {
   "cell_type": "code",
   "execution_count": 27,
   "metadata": {},
   "outputs": [],
   "source": [
    "b_time[0] = pd.to_datetime(b_time[0])"
   ]
  },
  {
   "cell_type": "markdown",
   "metadata": {},
   "source": [
    "### Rolling window on borsuk dwp"
   ]
  },
  {
   "cell_type": "code",
   "execution_count": 28,
   "metadata": {},
   "outputs": [],
   "source": [
    "rdii_roll = b_rdii.rolling(4).mean()\n",
    "rdii_roll = rdii_roll.fillna(rdii_roll.mean())"
   ]
  },
  {
   "cell_type": "markdown",
   "metadata": {},
   "source": [
    "# Comparing results with rdii from flowworks.http"
   ]
  },
  {
   "cell_type": "markdown",
   "metadata": {},
   "source": [
    "### Get data from flowworks"
   ]
  },
  {
   "cell_type": "code",
   "execution_count": 29,
   "metadata": {},
   "outputs": [],
   "source": [
    "flowworks = config.get(\"configuration\", \"flowworks\")\n",
    "r = requests.get(flowworks)\n",
    "flow_data = json.loads(r.content)"
   ]
  },
  {
   "cell_type": "markdown",
   "metadata": {},
   "source": [
    "### Create variables for plot"
   ]
  },
  {
   "cell_type": "code",
   "execution_count": 30,
   "metadata": {},
   "outputs": [],
   "source": [
    "flow_datetime = flow_data['index']\n",
    "flow_dwp = flow_data['dwp']\n",
    "flow_flow = flow_data['flow']\n",
    "flow_rain = flow_data['rainfall']\n",
    "flow_rdii = flow_data['rdii1']"
   ]
  },
  {
   "cell_type": "code",
   "execution_count": 31,
   "metadata": {},
   "outputs": [],
   "source": [
    "flow = pd.DataFrame(flow_datetime)"
   ]
  },
  {
   "cell_type": "code",
   "execution_count": 32,
   "metadata": {},
   "outputs": [],
   "source": [
    "flow = flow.replace({'T':' '}, regex=True)\n",
    "flow = flow.replace({'Z':' '}, regex=True)"
   ]
  },
  {
   "cell_type": "code",
   "execution_count": 35,
   "metadata": {},
   "outputs": [],
   "source": [
    "flow['dwp'] = flow_dwp\n",
    "flow['flow'] = flow_flow\n",
    "flow['rdii'] = flow_rdii\n",
    "flow.columns = ['time', 'dwp','flow','rdii']"
   ]
  },
  {
   "cell_type": "code",
   "execution_count": 36,
   "metadata": {},
   "outputs": [],
   "source": [
    "flow['time'] = pd.to_datetime(flow['time'])"
   ]
  },
  {
   "cell_type": "code",
   "execution_count": 37,
   "metadata": {},
   "outputs": [],
   "source": [
    "rain = pd.DataFrame(flow_rain)"
   ]
  },
  {
   "cell_type": "code",
   "execution_count": 38,
   "metadata": {},
   "outputs": [
    {
     "data": {
      "text/html": [
       "<div>\n",
       "<style scoped>\n",
       "    .dataframe tbody tr th:only-of-type {\n",
       "        vertical-align: middle;\n",
       "    }\n",
       "\n",
       "    .dataframe tbody tr th {\n",
       "        vertical-align: top;\n",
       "    }\n",
       "\n",
       "    .dataframe thead th {\n",
       "        text-align: right;\n",
       "    }\n",
       "</style>\n",
       "<table border=\"1\" class=\"dataframe\">\n",
       "  <thead>\n",
       "    <tr style=\"text-align: right;\">\n",
       "      <th></th>\n",
       "      <th>time</th>\n",
       "      <th>dwp</th>\n",
       "      <th>flow</th>\n",
       "      <th>rdii</th>\n",
       "      <th>rain</th>\n",
       "    </tr>\n",
       "  </thead>\n",
       "  <tbody>\n",
       "    <tr>\n",
       "      <th>0</th>\n",
       "      <td>2012-10-15 00:00:00</td>\n",
       "      <td>1.028379</td>\n",
       "      <td>1.016080</td>\n",
       "      <td>0.050243</td>\n",
       "      <td>0.0</td>\n",
       "    </tr>\n",
       "    <tr>\n",
       "      <th>1</th>\n",
       "      <td>2012-10-15 00:15:00</td>\n",
       "      <td>0.909938</td>\n",
       "      <td>1.001293</td>\n",
       "      <td>0.029934</td>\n",
       "      <td>0.0</td>\n",
       "    </tr>\n",
       "    <tr>\n",
       "      <th>2</th>\n",
       "      <td>2012-10-15 00:30:00</td>\n",
       "      <td>0.919655</td>\n",
       "      <td>1.012317</td>\n",
       "      <td>0.034547</td>\n",
       "      <td>0.0</td>\n",
       "    </tr>\n",
       "    <tr>\n",
       "      <th>3</th>\n",
       "      <td>2012-10-15 00:45:00</td>\n",
       "      <td>0.949169</td>\n",
       "      <td>0.989730</td>\n",
       "      <td>0.053070</td>\n",
       "      <td>0.0</td>\n",
       "    </tr>\n",
       "    <tr>\n",
       "      <th>4</th>\n",
       "      <td>2012-10-15 01:00:00</td>\n",
       "      <td>0.880648</td>\n",
       "      <td>0.902340</td>\n",
       "      <td>0.061568</td>\n",
       "      <td>0.0</td>\n",
       "    </tr>\n",
       "  </tbody>\n",
       "</table>\n",
       "</div>"
      ],
      "text/plain": [
       "                 time       dwp      flow      rdii  rain\n",
       "0 2012-10-15 00:00:00  1.028379  1.016080  0.050243   0.0\n",
       "1 2012-10-15 00:15:00  0.909938  1.001293  0.029934   0.0\n",
       "2 2012-10-15 00:30:00  0.919655  1.012317  0.034547   0.0\n",
       "3 2012-10-15 00:45:00  0.949169  0.989730  0.053070   0.0\n",
       "4 2012-10-15 01:00:00  0.880648  0.902340  0.061568   0.0"
      ]
     },
     "execution_count": 38,
     "metadata": {},
     "output_type": "execute_result"
    }
   ],
   "source": [
    "flow = pd.concat([flow,rain], ignore_index=True, axis=1)\n",
    "flow.columns = ['time', 'dwp','flow','rdii','rain']\n",
    "flow.head()"
   ]
  },
  {
   "cell_type": "code",
   "execution_count": 39,
   "metadata": {},
   "outputs": [],
   "source": [
    "flow.to_csv('results.csv', index=False, header=True)"
   ]
  },
  {
   "cell_type": "markdown",
   "metadata": {},
   "source": [
    "### Plotting rdii from flowworks.http"
   ]
  },
  {
   "cell_type": "code",
   "execution_count": 40,
   "metadata": {},
   "outputs": [
    {
     "data": {
      "image/png": "[encoded data removed]",
      "text/plain": [
       "<Figure size 864x720 with 1 Axes>"
      ]
     },
     "metadata": {},
     "output_type": "display_data"
    }
   ],
   "source": [
    "plt.figure(figsize=(12, 10))\n",
    "plt.plot(flow['time'], flow['dwp'], color=\"orange\",marker=\"o\",label=\"dwp\", linewidth=1)\n",
    "plt.plot(flow['time'], flow['flow'], c='purple',marker=\"o\", label=\"flow\",linewidth=1)\n",
    "plt.plot(flow['time'], flow['rain'], c='blue',marker=\"o\", label=\"rain\",linewidth=1)\n",
    "plt.plot(flow['time'], flow['rdii'], c='red',marker=\"o\", label=\"rdii\",linewidth=1)\n",
    "\n",
    "plt.xlabel(\"data\")\n",
    "plt.ylabel(\"targets\")\n",
    "plt.title(\"RDII visualisation\")\n",
    "plt.legend()\n",
    "plt.show()"
   ]
  },
  {
   "cell_type": "markdown",
   "metadata": {},
   "source": [
    "### Plotting rdii from borsuk"
   ]
  },
  {
   "cell_type": "code",
   "execution_count": 41,
   "metadata": {},
   "outputs": [
    {
     "data": {
      "image/png": "[encoded data removed]",
      "text/plain": [
       "<Figure size 864x720 with 1 Axes>"
      ]
     },
     "metadata": {},
     "output_type": "display_data"
    }
   ],
   "source": [
    "plt.figure(figsize=(12, 10))\n",
    "plt.plot(b_time, b_dwp, color=\"orange\",marker=\"o\",label=\"dwp\", linewidth=1)\n",
    "plt.plot(b_time, b_flow, c='purple',marker=\"o\", label=\"flow\",linewidth=1)\n",
    "plt.plot(b_time, b_rain, c='blue',marker=\"o\", label=\"rain\",linewidth=1)\n",
    "plt.plot(b_time, rdii_roll, c='red',marker=\"o\", label=\"rdii\",linewidth=1)\n",
    "\n",
    "plt.xlabel(\"data\")\n",
    "plt.ylabel(\"targets\")\n",
    "plt.title(\"RDII visualisation\")\n",
    "plt.legend()\n",
    "plt.show()"
   ]
  }
 ],
 "metadata": {
  "kernelspec": {
   "display_name": "Python 3",
   "language": "python",
   "name": "python3"
  },
  "language_info": {
   "codemirror_mode": {
    "name": "ipython",
    "version": 3
   },
   "file_extension": ".py",
   "mimetype": "text/x-python",
   "name": "python",
   "nbconvert_exporter": "python",
   "pygments_lexer": "ipython3",
   "version": "3.6.5"
  }
 },
 "nbformat": 4,
 "nbformat_minor": 2
}
