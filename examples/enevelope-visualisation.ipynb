{
 "cells": [
  {
   "cell_type": "markdown",
   "metadata": {},
   "source": [
    "# Visualisation of the envelope in borsuk"
   ]
  },
  {
   "cell_type": "markdown",
   "metadata": {},
   "source": [
    "### Importing necessary libraries"
   ]
  },
  {
   "cell_type": "code",
   "execution_count": 1,
   "metadata": {},
   "outputs": [],
   "source": [
    "import numpy as np\n",
    "import pandas as pd\n",
    "import matplotlib.pyplot as plt\n",
    "from matplotlib import rcParams\n",
    "import os.path\n",
    "import statsmodels.api as sm\n",
    "import statistics\n",
    "import http.client\n",
    "import json\n",
    "import urllib.request\n",
    "import requests\n",
    "import random\n",
    "from urllib import error\n",
    "import configparser \n",
    "import time\n",
    "import datetime\n",
    "import re"
   ]
  },
  {
   "cell_type": "markdown",
   "metadata": {},
   "source": [
    "### Accessing the token\n",
    "Pobranie danych dla kanału"
   ]
  },
  {
   "cell_type": "code",
   "execution_count": 2,
   "metadata": {},
   "outputs": [],
   "source": [
    "config = configparser.ConfigParser()\n",
    "config.read(\"config.txt\")\n",
    "http_client = config.get(\"configuration\",\"http_client\")\n",
    "conn = http.client.HTTPConnection(http_client)\n",
    "headers = {'Content-type': 'application/json'}\n",
    "Username = config.get(\"configuration\",\"user\")\n",
    "Password = config.get(\"configuration\",\"password\")\n",
    "body = { 'Username': Username, 'Password': Password}\n",
    "conn.request(\"POST\",\"/auth/authenticate\", json.dumps(body),headers)\n",
    "response = conn.getresponse()\n",
    "x = response.read().decode()\n",
    "token = json.loads(x)['token']"
   ]
  },
  {
   "cell_type": "markdown",
   "metadata": {},
   "source": [
    "### Loading the data set"
   ]
  },
  {
   "cell_type": "code",
   "execution_count": 3,
   "metadata": {},
   "outputs": [],
   "source": [
    "url_rain = 'http://13.77.168.238/data/channel/3231-3048/data?token=' + token\n",
    "url_flow = 'http://13.77.168.238/data/channel/1928-1363/data?token=' + token\n",
    "df_rain = pd.read_csv(url_rain, parse_dates=['time'])\n",
    "df_flow = pd.read_csv(url_flow, parse_dates=['time'])"
   ]
  },
  {
   "cell_type": "markdown",
   "metadata": {},
   "source": [
    "### Filling missing dates in datasets"
   ]
  },
  {
   "cell_type": "code",
   "execution_count": 4,
   "metadata": {},
   "outputs": [],
   "source": [
    "df_rain = df_rain.set_index('time')\n",
    "df_rain = df_rain.resample('300S').asfreq()\n",
    "df_flow = df_flow.set_index('time')\n",
    "df_flow = df_flow.resample('900S').asfreq()"
   ]
  },
  {
   "cell_type": "code",
   "execution_count": 5,
   "metadata": {},
   "outputs": [],
   "source": [
    "df_rain = df_rain.reset_index()"
   ]
  },
  {
   "cell_type": "code",
   "execution_count": 6,
   "metadata": {},
   "outputs": [],
   "source": [
    "df_flow = df_flow.reset_index()"
   ]
  },
  {
   "cell_type": "code",
   "execution_count": 7,
   "metadata": {},
   "outputs": [],
   "source": [
    "df_rain = df_rain.fillna(-1)\n",
    "df_flow = df_flow.fillna(-1)"
   ]
  },
  {
   "cell_type": "markdown",
   "metadata": {},
   "source": [
    "### Taking the fragment of the data to the model"
   ]
  },
  {
   "cell_type": "code",
   "execution_count": 8,
   "metadata": {},
   "outputs": [],
   "source": [
    "split_rain = df_rain[(df_rain['time'] > '2012-09-16 00:00:00')]\n",
    "split_rain = split_rain[(split_rain['time'] < '2016-4-9 00:00:00')]\n",
    "split_flow = df_flow[(df_flow['time'] > '2012-09-16 00:00:00')]\n",
    "split_flow = split_flow[(split_flow['time'] < '2016-4-9 00:00:00')]"
   ]
  },
  {
   "cell_type": "markdown",
   "metadata": {},
   "source": [
    "### Creating json variable"
   ]
  },
  {
   "cell_type": "code",
   "execution_count": 9,
   "metadata": {},
   "outputs": [
    {
     "data": {
      "text/plain": [
       "' {\\n\\t\"rainfall\" : {\\n\\t\\t\"start-date\" : \"2012-09-16 00:05:00\",\\n\\t\\t\"resolution\" : \"PT5M\",\\n\\t\\t\"values\" : [1.0,2.0,3.0]\\n\\t},\\n\\t\"flow\" : {\\n\\t\\t\"start-date\" : \"2012-09-16 00:15:00\",\\n\\t\\t\"resolution\" : \"PT5M\",\\n\\t\\t\"values\" : [2.0,3.0,4.0]\\n\\t},\\n\\t\"stormIntensityWindow\" : \"PT6H\",\\n\\t\"flowIntensityWindow\" : \"PT1H\",\\n\\t\"dryDayWindow\" : \"P2D\",\\n\\t\"minSessionWindow\" : \"PT12H\",\\n\\t\"maxSessionWindow\" : \"PT12H\"\\n} '"
      ]
     },
     "execution_count": 9,
     "metadata": {},
     "output_type": "execute_result"
    }
   ],
   "source": [
    "\"\"\" {\n",
    "\t\"rainfall\" : {\n",
    "\t\t\"start-date\" : \"2012-09-16 00:05:00\",\n",
    "\t\t\"resolution\" : \"PT5M\",\n",
    "\t\t\"values\" : [1.0,2.0,3.0]\n",
    "\t},\n",
    "\t\"flow\" : {\n",
    "\t\t\"start-date\" : \"2012-09-16 00:15:00\",\n",
    "\t\t\"resolution\" : \"PT5M\",\n",
    "\t\t\"values\" : [2.0,3.0,4.0]\n",
    "\t},\n",
    "\t\"stormIntensityWindow\" : \"PT6H\",\n",
    "\t\"flowIntensityWindow\" : \"PT1H\",\n",
    "\t\"dryDayWindow\" : \"P2D\",\n",
    "\t\"minSessionWindow\" : \"PT12H\",\n",
    "\t\"maxSessionWindow\" : \"PT12H\"\n",
    "} \"\"\""
   ]
  },
  {
   "cell_type": "code",
   "execution_count": 10,
   "metadata": {},
   "outputs": [],
   "source": [
    "rain_json = split_rain.to_json(orient='split')\n",
    "flow_json = split_flow.to_json(orient='split')\n",
    "rain_values = split_rain['value']\n",
    "rain_values = np.array(rain_values)\n",
    "rain_values = rain_values.tolist()\n",
    "flow_values = split_flow['value']\n",
    "flow_values = np.array(flow_values)\n",
    "flow_values = flow_values.tolist()"
   ]
  },
  {
   "cell_type": "code",
   "execution_count": 11,
   "metadata": {},
   "outputs": [],
   "source": [
    "envelope =  {\n",
    "\t\"rainfall\" : {\n",
    "\t\t\"start-date\" : \"2018-01-01T00:00:00\",\n",
    "\t\t\"resolution\" : \"PT5M\",\n",
    "\t\t\"values\" : []\n",
    "\t},\n",
    "\t\"flow\" : {\n",
    "\t\t\"start-date\" : \"2018-01-01T00:00:00\",\n",
    "\t\t\"resolution\" : \"PT15M\",\n",
    "\t\t\"values\" : []\n",
    "\t},\n",
    "\t\"stormIntensityWindow\" : \"PT6H\",\n",
    "\t\"flowIntensityWindow\" : \"PT1H\",\n",
    "\t\"dryDayWindow\" : \"P2D\",\n",
    "\t\"minSessionWindow\" : \"PT12H\",\n",
    "\t\"maxSessionWindow\" : \"PT12H\"\n",
    "}"
   ]
  },
  {
   "cell_type": "code",
   "execution_count": 12,
   "metadata": {},
   "outputs": [],
   "source": [
    "envelope['flow']['values'].append(flow_values)\n",
    "envelope['rainfall']['values'].append(rain_values)"
   ]
  },
  {
   "cell_type": "code",
   "execution_count": 13,
   "metadata": {},
   "outputs": [],
   "source": [
    "envelope = json.dumps(envelope)\n",
    "envelope = envelope.replace('[[','[')\n",
    "envelope = envelope.replace(']]',']')\n",
    "envelope = json.loads(envelope)"
   ]
  },
  {
   "cell_type": "markdown",
   "metadata": {},
   "source": [
    "### POST to borsuk-envelope\n",
    "{\"type\":\"envelope-v0\", \"id\": \"model-id\"}"
   ]
  },
  {
   "cell_type": "code",
   "execution_count": 14,
   "metadata": {},
   "outputs": [
    {
     "name": "stdout",
     "output_type": "stream",
     "text": [
      "409\n",
      "b'Error: Model with this id already exist.'\n"
     ]
    }
   ],
   "source": [
    "env_url = config.get(\"configuration\", \"env_url\")\n",
    "body={\"type\":\"envelope-v0\",\"id\": \"env_test\"}\n",
    "response = requests.post(env_url, json=body)\n",
    "print(response.status_code)\n",
    "print(response.content) "
   ]
  },
  {
   "cell_type": "markdown",
   "metadata": {},
   "source": [
    "### GET to borsuk-envelope env-test"
   ]
  },
  {
   "cell_type": "code",
   "execution_count": 15,
   "metadata": {},
   "outputs": [
    {
     "name": "stdout",
     "output_type": "stream",
     "text": [
      "1\n"
     ]
    }
   ],
   "source": [
    "env_model = config.get(\"configuration\", \"env_model\")\n",
    "r = requests.get(env_model)\n",
    "first = json.loads(r.content)['build']\n",
    "print(first)"
   ]
  },
  {
   "cell_type": "markdown",
   "metadata": {},
   "source": [
    "### POST to borsuk-envelope json\n",
    "The change of status informs that the post is finished"
   ]
  },
  {
   "cell_type": "code",
   "execution_count": 16,
   "metadata": {},
   "outputs": [
    {
     "name": "stdout",
     "output_type": "stream",
     "text": [
      "200\n",
      "b'OK'\n"
     ]
    }
   ],
   "source": [
    "env_fit = config.get(\"configuration\", \"env_fit\")\n",
    "response = requests.post(env_fit, json=envelope)\n",
    "print(response.status_code)\n",
    "print(response.content)"
   ]
  },
  {
   "cell_type": "code",
   "execution_count": null,
   "metadata": {},
   "outputs": [],
   "source": [
    "print(\"Primary status: \",first)\n",
    "start_time = time.time()\n",
    "\n",
    "while True:\n",
    "    r = requests.get(env_model)\n",
    "    last = json.loads(r.content)['build']\n",
    "    if last > first:\n",
    "        print(\"Status after post: \",last)\n",
    "        break\n",
    "\n",
    "print(\"--- %s seconds ---\" % (time.time() - start_time))"
   ]
  },
  {
   "cell_type": "markdown",
   "metadata": {},
   "source": [
    "### GET to borsuk-envelope to list envelopes"
   ]
  },
  {
   "cell_type": "code",
   "execution_count": 1,
   "metadata": {},
   "outputs": [
    {
     "data": {
      "text/plain": [
       "' env_list = config.get(\"configuration\", \"env_id\")\\nr = requests.get(env_list)\\nb = json.loads(r.content) '"
      ]
     },
     "execution_count": 1,
     "metadata": {},
     "output_type": "execute_result"
    }
   ],
   "source": [
    "''' env_list = config.get(\"configuration\", \"env_id\")\n",
    "r = requests.get(env_list)\n",
    "b = json.loads(r.content) '''"
   ]
  }
 ],
 "metadata": {
  "kernelspec": {
   "display_name": "Python 3",
   "language": "python",
   "name": "python3"
  },
  "language_info": {
   "codemirror_mode": {
    "name": "ipython",
    "version": 3
   },
   "file_extension": ".py",
   "mimetype": "text/x-python",
   "name": "python",
   "nbconvert_exporter": "python",
   "pygments_lexer": "ipython3",
   "version": "3.6.5"
  }
 },
 "nbformat": 4,
 "nbformat_minor": 2
}
