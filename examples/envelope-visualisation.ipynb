{
 "cells": [
  {
   "cell_type": "markdown",
   "metadata": {},
   "source": [
    "# Visualisation of the borsuk envelope"
   ]
  },
  {
   "cell_type": "markdown",
   "metadata": {},
   "source": [
    "### Importing necessary libraries"
   ]
  },
  {
   "cell_type": "code",
   "execution_count": 1,
   "metadata": {},
   "outputs": [],
   "source": [
    "import pandas as pd\n",
    "import matplotlib.pyplot as plt\n",
    "from matplotlib import rcParams\n",
    "import os.path\n",
    "import http.client\n",
    "import json\n",
    "import urllib.request\n",
    "import requests\n",
    "from urllib import error\n",
    "import configparser \n",
    "import time\n",
    "import datetime\n",
    "import re\n",
    "from scipy import stats"
   ]
  },
  {
   "cell_type": "markdown",
   "metadata": {},
   "source": [
    "### Accessing the token\n",
    "Loading the data for the channel"
   ]
  },
  {
   "cell_type": "code",
   "execution_count": 2,
   "metadata": {},
   "outputs": [],
   "source": [
    "config = configparser.ConfigParser()\n",
    "config.read(\"config.txt\")\n",
    "http_client = config.get(\"configuration\",\"http_client\")\n",
    "conn = http.client.HTTPConnection(http_client)\n",
    "headers = {'Content-type': 'application/json'}\n",
    "Username = config.get(\"configuration\",\"user\")\n",
    "Password = config.get(\"configuration\",\"password\")\n",
    "body = { 'Username': Username, 'Password': Password}\n",
    "conn.request(\"POST\",\"/auth/authenticate\", json.dumps(body),headers)\n",
    "response = conn.getresponse()\n",
    "x = response.read().decode()\n",
    "token = json.loads(x)['token']"
   ]
  },
  {
   "cell_type": "markdown",
   "metadata": {},
   "source": [
    "### Loading the data set"
   ]
  },
  {
   "cell_type": "code",
   "execution_count": 3,
   "metadata": {},
   "outputs": [],
   "source": [
    "url_rain = config.get(\"configuration\", \"url_rain\") + token\n",
    "url_flow = config.get(\"configuration\", \"url_flow\") + token\n",
    "df_rain = pd.read_csv(url_rain, parse_dates=['time'])\n",
    "df_flow = pd.read_csv(url_flow, parse_dates=['time'])"
   ]
  },
  {
   "cell_type": "markdown",
   "metadata": {},
   "source": [
    "### Filling missing dates in datasets"
   ]
  },
  {
   "cell_type": "code",
   "execution_count": 4,
   "metadata": {},
   "outputs": [],
   "source": [
    "df_rain = df_rain.set_index('time')\n",
    "df_rain = df_rain.resample('300S').asfreq()\n",
    "df_flow = df_flow.set_index('time')\n",
    "df_flow = df_flow.resample('900S').asfreq()"
   ]
  },
  {
   "cell_type": "code",
   "execution_count": 5,
   "metadata": {},
   "outputs": [],
   "source": [
    "df_rain = df_rain.reset_index()"
   ]
  },
  {
   "cell_type": "code",
   "execution_count": 6,
   "metadata": {},
   "outputs": [],
   "source": [
    "df_flow = df_flow.reset_index()"
   ]
  },
  {
   "cell_type": "code",
   "execution_count": 7,
   "metadata": {},
   "outputs": [],
   "source": [
    "df_rain = df_rain.fillna(-1)\n",
    "df_flow = df_flow.fillna(-1)"
   ]
  },
  {
   "cell_type": "markdown",
   "metadata": {},
   "source": [
    "### Taking the fragment of the data to the model"
   ]
  },
  {
   "cell_type": "code",
   "execution_count": 8,
   "metadata": {},
   "outputs": [],
   "source": [
    "split_rain = df_rain[(df_rain['time'] > '2012-09-15 00:07:25')]\n",
    "#split_rain = split_rain[(split_rain['time'] < '2016-4-9 00:00:00')]\n",
    "split_flow = df_flow[(df_flow['time'] > '2011-07-12 12:00:00')]\n",
    "#split_flow = split_flow[(split_flow['time'] < '2016-4-9 00:00:00')]"
   ]
  },
  {
   "cell_type": "code",
   "execution_count": 9,
   "metadata": {},
   "outputs": [
    {
     "data": {
      "text/html": [
       "<div>\n",
       "<style scoped>\n",
       "    .dataframe tbody tr th:only-of-type {\n",
       "        vertical-align: middle;\n",
       "    }\n",
       "\n",
       "    .dataframe tbody tr th {\n",
       "        vertical-align: top;\n",
       "    }\n",
       "\n",
       "    .dataframe thead th {\n",
       "        text-align: right;\n",
       "    }\n",
       "</style>\n",
       "<table border=\"1\" class=\"dataframe\">\n",
       "  <thead>\n",
       "    <tr style=\"text-align: right;\">\n",
       "      <th></th>\n",
       "      <th>time</th>\n",
       "      <th>value</th>\n",
       "    </tr>\n",
       "  </thead>\n",
       "  <tbody>\n",
       "    <tr>\n",
       "      <th>0</th>\n",
       "      <td>2011-07-12 12:15:00</td>\n",
       "      <td>2.267409</td>\n",
       "    </tr>\n",
       "    <tr>\n",
       "      <th>1</th>\n",
       "      <td>2011-07-12 12:30:00</td>\n",
       "      <td>2.314310</td>\n",
       "    </tr>\n",
       "    <tr>\n",
       "      <th>2</th>\n",
       "      <td>2011-07-12 12:45:00</td>\n",
       "      <td>2.259863</td>\n",
       "    </tr>\n",
       "    <tr>\n",
       "      <th>3</th>\n",
       "      <td>2011-07-12 13:00:00</td>\n",
       "      <td>2.153435</td>\n",
       "    </tr>\n",
       "    <tr>\n",
       "      <th>4</th>\n",
       "      <td>2011-07-12 13:15:00</td>\n",
       "      <td>2.085203</td>\n",
       "    </tr>\n",
       "  </tbody>\n",
       "</table>\n",
       "</div>"
      ],
      "text/plain": [
       "                 time     value\n",
       "0 2011-07-12 12:15:00  2.267409\n",
       "1 2011-07-12 12:30:00  2.314310\n",
       "2 2011-07-12 12:45:00  2.259863\n",
       "3 2011-07-12 13:00:00  2.153435\n",
       "4 2011-07-12 13:15:00  2.085203"
      ]
     },
     "execution_count": 9,
     "metadata": {},
     "output_type": "execute_result"
    }
   ],
   "source": [
    "split_flow.head()"
   ]
  },
  {
   "cell_type": "markdown",
   "metadata": {},
   "source": [
    "### Creating json variable"
   ]
  },
  {
   "cell_type": "code",
   "execution_count": 10,
   "metadata": {},
   "outputs": [],
   "source": [
    "envelope =  {\n",
    "\t\"rainfall\" : {\n",
    "\t\t\"start-date\" : \"2012-09-15 07:30:00\",\n",
    "\t\t\"resolution\" : \"PT5M\",\n",
    "\t\t\"values\" : list(split_rain['value'])\n",
    "\t},\n",
    "\t\"flow\" : {\n",
    "\t\t\"start-date\" : \"2011-07-12 12:15:00\",\n",
    "\t\t\"resolution\" : \"PT15M\",\n",
    "\t\t\"values\" : list(split_flow['value'])\n",
    "\t},\n",
    "\t\"stormIntensityWindow\" : \"PT6H\",\n",
    "\t\"flowIntensityWindow\" : \"PT1H\",\n",
    "\t\"dryDayWindow\" : \"P2D\",\n",
    "\t\"minSessionWindow\" : \"PT12H\",\n",
    "\t\"maxSessionWindow\" : \"PT12H\",\n",
    "    \"flowBoundary\" : 3\n",
    "}"
   ]
  },
  {
   "cell_type": "markdown",
   "metadata": {},
   "source": [
    "### POST to borsuk-envelope\n",
    "{\"type\":\"envelope-v0\", \"id\": \"model-id\"}"
   ]
  },
  {
   "cell_type": "code",
   "execution_count": 11,
   "metadata": {},
   "outputs": [
    {
     "name": "stdout",
     "output_type": "stream",
     "text": [
      "409\n",
      "b'Error: Model with this id already exist.'\n"
     ]
    }
   ],
   "source": [
    "env_url = config.get(\"configuration\", \"env_url\")\n",
    "body={\"type\":\"envelope-v0\",\"id\": \"env_test\"}\n",
    "response = requests.post(env_url, json=body)\n",
    "print(response.status_code)\n",
    "print(response.content) "
   ]
  },
  {
   "cell_type": "markdown",
   "metadata": {},
   "source": [
    "### GET to borsuk-envelope env-test"
   ]
  },
  {
   "cell_type": "code",
   "execution_count": 12,
   "metadata": {},
   "outputs": [
    {
     "name": "stdout",
     "output_type": "stream",
     "text": [
      "6\n"
     ]
    }
   ],
   "source": [
    "env_model = config.get(\"configuration\", \"env_model\")\n",
    "r = requests.get(env_model)\n",
    "last_build = json.loads(r.content)['build']\n",
    "print(last_build)"
   ]
  },
  {
   "cell_type": "markdown",
   "metadata": {},
   "source": [
    "### POST to borsuk-envelope json\n",
    "The change of status informs that the post is finished"
   ]
  },
  {
   "cell_type": "code",
   "execution_count": 13,
   "metadata": {},
   "outputs": [
    {
     "name": "stdout",
     "output_type": "stream",
     "text": [
      "200\n",
      "b'OK'\n"
     ]
    }
   ],
   "source": [
    "env_fit = config.get(\"configuration\", \"env_fit\")\n",
    "response = requests.post(env_fit, json=envelope)\n",
    "print(response.status_code)\n",
    "print(response.content)"
   ]
  },
  {
   "cell_type": "code",
   "execution_count": 15,
   "metadata": {},
   "outputs": [
    {
     "name": "stdout",
     "output_type": "stream",
     "text": [
      "Primary status:  6\n",
      "Status after post:  7\n",
      "--- 0.7973537445068359 seconds ---\n"
     ]
    }
   ],
   "source": [
    "print(\"Primary status: \",last_build)\n",
    "start_time = time.time()\n",
    "\n",
    "while True:\n",
    "    r = requests.get(env_model)\n",
    "    new_build = json.loads(r.content)['build']\n",
    "    if new_build > last_build:\n",
    "        print(\"Status after post: \",new_build)\n",
    "        break\n",
    "\n",
    "print(\"--- %s seconds ---\" % (time.time() - start_time))"
   ]
  },
  {
   "cell_type": "markdown",
   "metadata": {},
   "source": [
    "### GET to borsuk-envelope to list envelopes"
   ]
  },
  {
   "cell_type": "code",
   "execution_count": 16,
   "metadata": {},
   "outputs": [],
   "source": [
    "env_list = config.get(\"configuration\", \"env_id\")\n",
    "r = requests.get(env_list)\n",
    "b = json.loads(r.content)"
   ]
  },
  {
   "cell_type": "code",
   "execution_count": 17,
   "metadata": {},
   "outputs": [],
   "source": [
    "a = json.loads(r.content)['envelope'][0]['id']"
   ]
  },
  {
   "cell_type": "code",
   "execution_count": 18,
   "metadata": {},
   "outputs": [],
   "source": [
    "env_id = config.get(\"configuration\", \"env_id\")\n",
    "envelope_id = env_id + '/' + a"
   ]
  },
  {
   "cell_type": "markdown",
   "metadata": {},
   "source": [
    "### GET to borsuk-envelope for specific id"
   ]
  },
  {
   "cell_type": "code",
   "execution_count": 19,
   "metadata": {},
   "outputs": [
    {
     "data": {
      "text/plain": [
       "{'intercept': 3.8492303087699113,\n",
       " 'storms': [4.129999918863177,\n",
       "  2.8499999530613422,\n",
       "  2.46999997459352,\n",
       "  2.149999938905239,\n",
       "  2.1199999526143074,\n",
       "  2.0899999421089888,\n",
       "  2.029999939724803,\n",
       "  1.869999960064888,\n",
       "  1.7099999580532312,\n",
       "  1.6899999473243952,\n",
       "  1.649999987334013,\n",
       "  1.6199999433010817,\n",
       "  1.5999999549239874,\n",
       "  1.5899999924004078,\n",
       "  1.539999969303608,\n",
       "  1.5199999567121267,\n",
       "  1.4599999953061342,\n",
       "  1.4399999994784594,\n",
       "  1.369999984279275,\n",
       "  1.329999977722764,\n",
       "  1.3199999704957008,\n",
       "  1.2899999842047691,\n",
       "  1.2599999904632568,\n",
       "  1.2399999648332596,\n",
       "  1.2399999648332596,\n",
       "  1.2199999708682299,\n",
       "  1.1899999734014273,\n",
       "  1.1499999854713678,\n",
       "  1.139999970793724,\n",
       "  1.0799999684095383,\n",
       "  1.0700000133365393,\n",
       "  1.0699999779462814,\n",
       "  1.0599999837577343,\n",
       "  1.0599999763071537,\n",
       "  1.0099999830126762,\n",
       "  0.9899999760091305,\n",
       "  0.8599999807775021,\n",
       "  0.7099999841302633,\n",
       "  0.639999981969595,\n",
       "  0.6199999954551458,\n",
       "  0.5299999918788671,\n",
       "  0.3499999940395355,\n",
       "  0.2799999937415123,\n",
       "  0.11999999918043613,\n",
       "  0.029999999329447746,\n",
       "  0.029999999329447746],\n",
       " 'dates': [{'from': '2013-05-19T01:30:00Z', 'to': '2013-05-19T13:40:00Z'},\n",
       "  {'from': '2014-09-07T14:15:00Z', 'to': '2014-09-08T03:35:00Z'},\n",
       "  {'from': '2018-07-31T14:55:00Z', 'to': '2018-08-03T02:45:00Z'},\n",
       "  {'from': '2017-04-05T07:25:00Z', 'to': '2017-04-05T22:20:00Z'},\n",
       "  {'from': '2014-04-06T18:30:00Z', 'to': '2014-04-07T20:30:00Z'},\n",
       "  {'from': '2015-11-01T00:00:00Z', 'to': '2015-11-02T21:30:00Z'},\n",
       "  {'from': '2016-02-02T21:50:00Z', 'to': '2016-02-03T11:10:00Z'},\n",
       "  {'from': '2015-12-16T22:30:00Z', 'to': '2015-12-17T09:45:00Z'},\n",
       "  {'from': '2015-12-23T00:25:00Z', 'to': '2015-12-26T02:20:00Z'},\n",
       "  {'from': '2013-01-30T06:35:00Z', 'to': '2013-01-30T22:00:00Z'},\n",
       "  {'from': '2015-08-18T11:00:00Z', 'to': '2015-08-18T18:15:00Z'},\n",
       "  {'from': '2014-01-09T22:30:00Z', 'to': '2014-01-11T11:55:00Z'},\n",
       "  {'from': '2012-12-25T16:05:00Z', 'to': '2012-12-26T04:00:00Z'},\n",
       "  {'from': '2017-10-23T04:30:00Z', 'to': '2017-10-23T11:00:00Z'},\n",
       "  {'from': '2018-11-12T03:40:00Z', 'to': '2018-11-15T07:35:00Z'},\n",
       "  {'from': '2015-12-28T02:50:00Z', 'to': '2015-12-28T22:35:00Z'},\n",
       "  {'from': '2015-08-22T18:00:00Z', 'to': '2015-08-23T10:00:00Z'},\n",
       "  {'from': '2018-06-26T20:55:00Z', 'to': '2018-06-27T01:15:00Z'},\n",
       "  {'from': '2017-04-23T00:30:00Z', 'to': '2017-04-24T00:40:00Z'},\n",
       "  {'from': '2016-12-31T14:00:00Z', 'to': '2017-01-03T00:25:00Z'},\n",
       "  {'from': '2014-05-14T17:45:00Z', 'to': '2014-05-15T07:10:00Z'},\n",
       "  {'from': '2014-11-16T20:30:00Z', 'to': '2014-11-17T09:15:00Z'},\n",
       "  {'from': '2014-11-23T02:45:00Z', 'to': '2014-11-23T18:30:00Z'},\n",
       "  {'from': '2015-11-05T02:25:00Z', 'to': '2015-11-07T07:10:00Z'},\n",
       "  {'from': '2013-02-25T23:35:00Z', 'to': '2013-02-26T10:05:00Z'},\n",
       "  {'from': '2013-04-11T20:40:00Z', 'to': '2013-04-11T23:55:00Z'},\n",
       "  {'from': '2013-02-21T23:30:00Z', 'to': '2013-02-22T07:50:00Z'},\n",
       "  {'from': '2015-08-17T07:45:00Z', 'to': '2015-08-17T19:30:00Z'},\n",
       "  {'from': '2013-05-03T19:35:00Z', 'to': '2013-05-05T21:30:00Z'},\n",
       "  {'from': '2013-03-23T22:25:00Z', 'to': '2013-03-24T18:45:00Z'},\n",
       "  {'from': '2015-05-31T13:15:00Z', 'to': '2015-05-31T22:00:00Z'},\n",
       "  {'from': '2016-02-22T12:05:00Z', 'to': '2016-02-24T19:55:00Z'},\n",
       "  {'from': '2018-07-21T05:25:00Z', 'to': '2018-07-22T04:00:00Z'},\n",
       "  {'from': '2016-01-21T17:45:00Z', 'to': '2016-01-22T17:45:00Z'},\n",
       "  {'from': '2017-08-14T18:20:00Z', 'to': '2017-08-14T20:00:00Z'},\n",
       "  {'from': '2015-11-07T23:40:00Z', 'to': '2015-11-09T22:10:00Z'},\n",
       "  {'from': '2013-02-22T22:05:00Z', 'to': '2013-02-23T10:05:00Z'},\n",
       "  {'from': '2013-03-23T02:15:00Z', 'to': '2013-03-23T09:50:00Z'},\n",
       "  {'from': '2013-01-13T22:50:00Z', 'to': '2013-01-17T13:50:00Z'},\n",
       "  {'from': '2018-05-31T17:45:00Z', 'to': '2018-06-02T03:45:00Z'},\n",
       "  {'from': '2018-05-27T22:20:00Z', 'to': '2018-05-30T14:15:00Z'},\n",
       "  {'from': '2017-03-30T19:55:00Z', 'to': '2017-03-31T03:25:00Z'},\n",
       "  {'from': '2013-02-19T04:15:00Z', 'to': '2013-02-19T07:55:00Z'},\n",
       "  {'from': '2013-08-22T18:30:00Z', 'to': '2013-08-22T19:40:00Z'},\n",
       "  {'from': '2015-07-14T20:15:00Z', 'to': '2015-07-15T07:30:00Z'},\n",
       "  {'from': '2016-10-16T04:30:00Z', 'to': '2016-10-16T05:35:00Z'}],\n",
       " 'rsquare': 0.12193557105041275,\n",
       " 'flow': [5.565868228673935,\n",
       "  3.29435071349144,\n",
       "  6.456114232540131,\n",
       "  5.284491568803787,\n",
       "  5.6359154880046844,\n",
       "  6.167341828346252,\n",
       "  4.862206906080246,\n",
       "  4.363640651106834,\n",
       "  7.018274709582329,\n",
       "  5.530355155467987,\n",
       "  4.572286754846573,\n",
       "  6.353300750255585,\n",
       "  4.215759515762329,\n",
       "  4.270305663347244,\n",
       "  4.966195404529572,\n",
       "  5.714059472084045,\n",
       "  5.307582199573517,\n",
       "  3.6662381291389465,\n",
       "  3.570037692785263,\n",
       "  6.1292834430933,\n",
       "  3.0211223661899567,\n",
       "  3.0786569118499756,\n",
       "  4.161497890949249,\n",
       "  5.152720868587494,\n",
       "  3.7141565084457397,\n",
       "  4.0834594666957855,\n",
       "  4.602606356143951,\n",
       "  4.510969281196594,\n",
       "  5.908458739519119,\n",
       "  4.157595172524452,\n",
       "  3.550989270210266,\n",
       "  3.4371903091669083,\n",
       "  3.2979459017515182,\n",
       "  4.998208969831467,\n",
       "  3.3643473982810974,\n",
       "  4.563852518796921,\n",
       "  4.602606356143951,\n",
       "  4.157595172524452,\n",
       "  3.0120280385017395,\n",
       "  3.6858050525188446,\n",
       "  4.288712382316589,\n",
       "  5.163139700889587,\n",
       "  3.093419164419174,\n",
       "  3.1888726949691772,\n",
       "  4.392678648233414,\n",
       "  5.177664406597614],\n",
       " 'slope': 0.5304378101207838}"
      ]
     },
     "execution_count": 19,
     "metadata": {},
     "output_type": "execute_result"
    }
   ],
   "source": [
    "r = requests.get(envelope_id)\n",
    "envelope = json.loads(r.content)\n",
    "envelope"
   ]
  },
  {
   "cell_type": "markdown",
   "metadata": {},
   "source": [
    "### Creating variables from json envelope "
   ]
  },
  {
   "cell_type": "code",
   "execution_count": 20,
   "metadata": {},
   "outputs": [],
   "source": [
    "intercept = envelope['intercept']\n",
    "storms = envelope['storms']\n",
    "dates = envelope['dates']\n",
    "rsquare = envelope['rsquare']\n",
    "flow = envelope['flow']\n",
    "slope = envelope['slope']"
   ]
  },
  {
   "cell_type": "markdown",
   "metadata": {},
   "source": [
    "### Calculate regression"
   ]
  },
  {
   "cell_type": "code",
   "execution_count": 21,
   "metadata": {},
   "outputs": [],
   "source": [
    "slope, intercept, r_value, p_value, std_err = stats.linregress(storms, flow)\n",
    "xs = [0] + storms + [70]\n",
    "ys = [slope*x+intercept for x in xs]\n",
    "max_res = max([flow[n] - (slope*storms[n]+intercept) for n in range(len(storms))])\n",
    "ys2 = [y + max_res for y in ys]"
   ]
  },
  {
   "cell_type": "markdown",
   "metadata": {},
   "source": [
    "### Plot borsuk envelope"
   ]
  },
  {
   "cell_type": "code",
   "execution_count": 22,
   "metadata": {},
   "outputs": [
    {
     "data": {
      "text/plain": [
       "Text(0,0.5,'Peak 1hr RDII (l/s)')"
      ]
     },
     "execution_count": 22,
     "metadata": {},
     "output_type": "execute_result"
    },
    {
     "data": {
      "image/png": "[encoded data removed]",
      "text/plain": [
       "<Figure size 1008x648 with 1 Axes>"
      ]
     },
     "metadata": {},
     "output_type": "display_data"
    }
   ],
   "source": [
    "rcParams['figure.figsize'] = 14, 9\n",
    "plt.xlim([0,50])\n",
    "plt.ylim([0,14])\n",
    "plt.plot(xs, ys, 'g')\n",
    "plt.plot(xs, ys2, 'orange')\n",
    "plt.scatter(storms, flow)\n",
    "\n",
    "plt.text(1, 13.5, 'y = {:.4}x + {:.4}'.format(slope, intercept), color='green', fontsize=13)\n",
    "plt.text(1, 13, 'R^2 = {:.4}'.format(r_value), color='green', fontsize=13)\n",
    "plt.text(1, 12.5, 'y = {:.4}x + {:.4}'.format(slope, intercept+max_res), color='orange', fontsize=13)\n",
    "\n",
    "plt.title('I& I Envelope')\n",
    "plt.xlabel('Maximum Total Rainfall (mm) - 6 hour duration')\n",
    "plt.ylabel('Peak 1hr RDII (l/s)')"
   ]
  },
  {
   "cell_type": "markdown",
   "metadata": {},
   "source": [
    "# Comparing results with flowworks"
   ]
  },
  {
   "cell_type": "markdown",
   "metadata": {},
   "source": [
    "### GET to flowworks data"
   ]
  },
  {
   "cell_type": "code",
   "execution_count": 23,
   "metadata": {},
   "outputs": [
    {
     "data": {
      "text/plain": [
       "{'intercept': 4.251800151242644,\n",
       " 'storms': [1.6799999848008156,\n",
       "  1.649999987334013,\n",
       "  1.4599999953061342,\n",
       "  1.2899999842047691,\n",
       "  1.2599999904632568,\n",
       "  1.2599999867379665,\n",
       "  1.1499999854713678,\n",
       "  1.0700000133365393],\n",
       " 'flows': [3.29435071349144,\n",
       "  4.572286754846573,\n",
       "  5.307582199573517,\n",
       "  3.0786569118499756,\n",
       "  4.161497890949249,\n",
       "  5.565868228673935,\n",
       "  4.510969281196594,\n",
       "  3.550989270210266],\n",
       " 'dates': [{'from': '2014-09-07T14:15:00Z', 'to': '2014-09-08T03:00:00Z'},\n",
       "  {'from': '2015-08-18T11:00:00Z', 'to': '2015-08-18T18:15:00Z'},\n",
       "  {'from': '2015-08-22T18:00:00Z', 'to': '2015-08-23T10:00:00Z'},\n",
       "  {'from': '2014-11-16T20:30:00Z', 'to': '2014-11-17T09:15:00Z'},\n",
       "  {'from': '2014-11-23T02:45:00Z', 'to': '2014-11-23T18:30:00Z'},\n",
       "  {'from': '2013-05-19T01:30:00Z', 'to': '2013-05-19T13:00:00Z'},\n",
       "  {'from': '2015-08-17T07:45:00Z', 'to': '2015-08-17T19:30:00Z'},\n",
       "  {'from': '2015-05-31T13:15:00Z', 'to': '2015-05-31T22:00:00Z'}],\n",
       " 'rsquare': -0.16666620332085547,\n",
       " 'slope': 0.0025693198739629407}"
      ]
     },
     "execution_count": 23,
     "metadata": {},
     "output_type": "execute_result"
    }
   ],
   "source": [
    "env_flowworks = config.get(\"configuration\", \"env_flowworks\")\n",
    "r = requests.get(env_flowworks)\n",
    "fworks = json.loads(r.content)\n",
    "fworks"
   ]
  },
  {
   "cell_type": "markdown",
   "metadata": {},
   "source": [
    "### Creating variables from flowworks json"
   ]
  },
  {
   "cell_type": "code",
   "execution_count": 24,
   "metadata": {},
   "outputs": [],
   "source": [
    "f_intercept = fworks['intercept']\n",
    "f_storms = fworks['storms']\n",
    "f_dates = fworks['dates']\n",
    "f_rsquare = fworks['rsquare']\n",
    "f_flow = fworks['flows']\n",
    "f_slope = fworks['slope']"
   ]
  },
  {
   "cell_type": "code",
   "execution_count": 25,
   "metadata": {},
   "outputs": [
    {
     "data": {
      "text/plain": [
       "0.12193557105041275"
      ]
     },
     "execution_count": 25,
     "metadata": {},
     "output_type": "execute_result"
    }
   ],
   "source": [
    "#borsuk\n",
    "rsquare"
   ]
  },
  {
   "cell_type": "code",
   "execution_count": 26,
   "metadata": {},
   "outputs": [
    {
     "data": {
      "text/plain": [
       "-0.16666620332085547"
      ]
     },
     "execution_count": 26,
     "metadata": {},
     "output_type": "execute_result"
    }
   ],
   "source": [
    "#flowworks\n",
    "f_rsquare"
   ]
  },
  {
   "cell_type": "markdown",
   "metadata": {},
   "source": [
    "### Calculate regression"
   ]
  },
  {
   "cell_type": "code",
   "execution_count": 27,
   "metadata": {},
   "outputs": [],
   "source": [
    "f_slope, f_intercept, f_r_value, f_p_value, f_std_err = stats.linregress(f_storms, f_flow)\n",
    "f_xs = [0] + f_storms + [70]\n",
    "f_ys = [f_slope*x+f_intercept for x in f_xs]\n",
    "f_max_res = max([f_flow[n] - (f_slope*f_storms[n]+f_intercept) for n in range(len(f_storms))])\n",
    "f_ys2 = [y + f_max_res for y in f_ys]"
   ]
  },
  {
   "cell_type": "markdown",
   "metadata": {},
   "source": [
    "### Plot flowworks envelope"
   ]
  },
  {
   "cell_type": "code",
   "execution_count": 28,
   "metadata": {},
   "outputs": [
    {
     "data": {
      "text/plain": [
       "Text(0,0.5,'Peak 1hr RDII (l/s)')"
      ]
     },
     "execution_count": 28,
     "metadata": {},
     "output_type": "execute_result"
    },
    {
     "data": {
      "image/png": "[encoded data removed]",
      "text/plain": [
       "<Figure size 1008x648 with 1 Axes>"
      ]
     },
     "metadata": {},
     "output_type": "display_data"
    }
   ],
   "source": [
    "rcParams['figure.figsize'] = 14, 9\n",
    "plt.xlim([0,20])\n",
    "plt.ylim([0,14])\n",
    "plt.plot(f_xs, f_ys, 'g')\n",
    "plt.plot(f_xs, f_ys2, 'orange')\n",
    "plt.scatter(f_storms, f_flow)\n",
    "\n",
    "plt.text(1, 13.5, 'y = {:.4}x + {:.4}'.format(f_slope, f_intercept), color='green', fontsize=13)\n",
    "plt.text(1, 13, 'R^2 = {:.4}'.format(f_r_value), color='green', fontsize=13)\n",
    "plt.text(1, 12.5, 'y = {:.4}x + {:.4}'.format(f_slope, f_intercept+f_max_res), color='orange', fontsize=13)\n",
    "\n",
    "plt.title('I& I Envelope')\n",
    "plt.xlabel('Maximum Total Rainfall (mm) - 6 hour duration')\n",
    "plt.ylabel('Peak 1hr RDII (l/s)')"
   ]
  }
 ],
 "metadata": {
  "kernelspec": {
   "display_name": "Python 3",
   "language": "python",
   "name": "python3"
  },
  "language_info": {
   "codemirror_mode": {
    "name": "ipython",
    "version": 3
   },
   "file_extension": ".py",
   "mimetype": "text/x-python",
   "name": "python",
   "nbconvert_exporter": "python",
   "pygments_lexer": "ipython3",
   "version": "3.6.5"
  }
 },
 "nbformat": 4,
 "nbformat_minor": 2
}
